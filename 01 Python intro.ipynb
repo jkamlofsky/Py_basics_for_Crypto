{
 "cells": [
  {
   "cell_type": "markdown",
   "id": "6524ad65",
   "metadata": {},
   "source": [
    "# Introduccion a Python"
   ]
  },
  {
   "cell_type": "code",
   "execution_count": 25,
   "id": "99ffe240",
   "metadata": {},
   "outputs": [
    {
     "data": {
      "text/plain": [
       "'Para comentar textos más extensos, conviene usar tres comillas simples o dobles para iniciar el texto y otras tres comillas para finalizar.'"
      ]
     },
     "execution_count": 25,
     "metadata": {},
     "output_type": "execute_result"
    }
   ],
   "source": [
    "\"\"\"Para comentar textos más extensos, conviene usar tres comillas simples o dobles para iniciar el texto y otras tres comillas para finalizar.\"\"\""
   ]
  },
  {
   "cell_type": "code",
   "execution_count": 26,
   "id": "956ea700",
   "metadata": {},
   "outputs": [],
   "source": [
    "# Anteponiendo el símbolo de numeral a una línea, en ejecución se la saltea. \n",
    "# Entonces, se lo usa para comentar el programa."
   ]
  },
  {
   "cell_type": "markdown",
   "id": "45b97782",
   "metadata": {},
   "source": [
    "## 1. Manejos de Tipos de Datos: "
   ]
  },
  {
   "cell_type": "markdown",
   "id": "2518eb44",
   "metadata": {},
   "source": [
    "### 1.1. Tipos de datos "
   ]
  },
  {
   "cell_type": "markdown",
   "id": "2f1b39ec",
   "metadata": {},
   "source": [
    "Ejecute esta celda para cargar las variables en memoria"
   ]
  },
  {
   "cell_type": "code",
   "execution_count": 27,
   "id": "bb69c23f",
   "metadata": {},
   "outputs": [
    {
     "name": "stdout",
     "output_type": "stream",
     "text": [
      "<class 'int'>\n",
      "<class 'str'>\n",
      "<class 'float'>\n"
     ]
    }
   ],
   "source": [
    "a=2   # a: es un número entero\n",
    "print(type(a))\n",
    "b='3' # b: es un caracter o string\n",
    "print(type(b))\n",
    "c=2.2 # c: es un número flotante\n",
    "print(type(c))"
   ]
  },
  {
   "cell_type": "markdown",
   "id": "8c472ed6",
   "metadata": {},
   "source": [
    "### 1.2. (+): ¿Suma o concatenación?"
   ]
  },
  {
   "cell_type": "markdown",
   "id": "1c67b9e8",
   "metadata": {},
   "source": [
    "#### 1.2.1. Suma"
   ]
  },
  {
   "cell_type": "markdown",
   "id": "42516249",
   "metadata": {},
   "source": [
    "Sumo a+b"
   ]
  },
  {
   "cell_type": "code",
   "execution_count": 29,
   "id": "1874c625",
   "metadata": {},
   "outputs": [
    {
     "ename": "TypeError",
     "evalue": "unsupported operand type(s) for +: 'int' and 'str'",
     "output_type": "error",
     "traceback": [
      "\u001b[0;31m---------------------------------------------------------------------------\u001b[0m",
      "\u001b[0;31mTypeError\u001b[0m                                 Traceback (most recent call last)",
      "\u001b[0;32m/tmp/ipykernel_29668/1083478837.py\u001b[0m in \u001b[0;36m<module>\u001b[0;34m\u001b[0m\n\u001b[0;32m----> 1\u001b[0;31m \u001b[0mprint\u001b[0m\u001b[0;34m(\u001b[0m\u001b[0ma\u001b[0m\u001b[0;34m+\u001b[0m\u001b[0mb\u001b[0m\u001b[0;34m)\u001b[0m\u001b[0;34m\u001b[0m\u001b[0;34m\u001b[0m\u001b[0m\n\u001b[0m",
      "\u001b[0;31mTypeError\u001b[0m: unsupported operand type(s) for +: 'int' and 'str'"
     ]
    }
   ],
   "source": [
    "print(a+b)"
   ]
  },
  {
   "cell_type": "markdown",
   "id": "968b1698",
   "metadata": {},
   "source": [
    "Al ejecutar esta celda aparece un error: <b>no puede sumar número y caracter</b>"
   ]
  },
  {
   "cell_type": "markdown",
   "id": "2070394a",
   "metadata": {},
   "source": [
    "Sumo a+int(b)"
   ]
  },
  {
   "cell_type": "code",
   "execution_count": 31,
   "id": "3e0d0cea",
   "metadata": {},
   "outputs": [
    {
     "name": "stdout",
     "output_type": "stream",
     "text": [
      "5\n"
     ]
    }
   ],
   "source": [
    "print(a+int(b))"
   ]
  },
  {
   "cell_type": "markdown",
   "id": "6ef9c646",
   "metadata": {},
   "source": [
    "Al aplicarle a b la función int, convierte a b en un número <b>y se puede operar</b>."
   ]
  },
  {
   "cell_type": "markdown",
   "id": "6706d956",
   "metadata": {},
   "source": [
    "Sumo a+c"
   ]
  },
  {
   "cell_type": "code",
   "execution_count": 4,
   "id": "0681cba7",
   "metadata": {},
   "outputs": [
    {
     "name": "stdout",
     "output_type": "stream",
     "text": [
      "4.2\n"
     ]
    }
   ],
   "source": [
    "print(a+c)"
   ]
  },
  {
   "cell_type": "markdown",
   "id": "450edb22",
   "metadata": {},
   "source": [
    "Se operan dos números de formato distinto, y entrega un resultado."
   ]
  },
  {
   "cell_type": "markdown",
   "id": "ea290947",
   "metadata": {},
   "source": [
    "#### 1.2.2. Concatenacion"
   ]
  },
  {
   "cell_type": "markdown",
   "id": "bfc33501",
   "metadata": {},
   "source": [
    "Sumo b+b"
   ]
  },
  {
   "cell_type": "code",
   "execution_count": 5,
   "id": "a009a334",
   "metadata": {},
   "outputs": [
    {
     "name": "stdout",
     "output_type": "stream",
     "text": [
      "33\n"
     ]
    }
   ],
   "source": [
    "print(b+b)"
   ]
  },
  {
   "cell_type": "markdown",
   "id": "df56111b",
   "metadata": {},
   "source": [
    "En este caso: + opera como concatenador de cadenas"
   ]
  },
  {
   "cell_type": "markdown",
   "id": "1c6bbd93",
   "metadata": {},
   "source": [
    "### 1.3. \"Igual\": ¿Comparación o Asignación?"
   ]
  },
  {
   "cell_type": "markdown",
   "id": "fcb5ced0",
   "metadata": {},
   "source": [
    "#### 1.3.1. Asignación"
   ]
  },
  {
   "cell_type": "code",
   "execution_count": 6,
   "id": "3298dba3",
   "metadata": {},
   "outputs": [
    {
     "name": "stdout",
     "output_type": "stream",
     "text": [
      "2\n"
     ]
    }
   ],
   "source": [
    "d=a\n",
    "print(d)"
   ]
  },
  {
   "cell_type": "markdown",
   "id": "0fb0235d",
   "metadata": {},
   "source": [
    "Con d=a le asignamos el valor de \"a\" a \"d\"."
   ]
  },
  {
   "cell_type": "markdown",
   "id": "31332d75",
   "metadata": {},
   "source": [
    "#### 1.3.2. Comparación"
   ]
  },
  {
   "cell_type": "markdown",
   "id": "9997afa2",
   "metadata": {},
   "source": [
    "Usar doble igual representa la comparación entre \"d\" y \"a\". Responde si es Verdadero o Falso."
   ]
  },
  {
   "cell_type": "code",
   "execution_count": 33,
   "id": "c36905e2",
   "metadata": {},
   "outputs": [
    {
     "name": "stdout",
     "output_type": "stream",
     "text": [
      "True\n"
     ]
    }
   ],
   "source": [
    "print(d==a)"
   ]
  },
  {
   "cell_type": "markdown",
   "id": "10ac8d76",
   "metadata": {},
   "source": [
    "## 2. Conjuntos y Listas"
   ]
  },
  {
   "cell_type": "markdown",
   "id": "9ec89765",
   "metadata": {},
   "source": [
    "### 2.1. Listas"
   ]
  },
  {
   "cell_type": "markdown",
   "id": "faab91ac",
   "metadata": {},
   "source": [
    "Presentamos una lista de elementos presentes en una bolsa de compras."
   ]
  },
  {
   "cell_type": "code",
   "execution_count": 34,
   "id": "493e2ec9",
   "metadata": {},
   "outputs": [
    {
     "name": "stdout",
     "output_type": "stream",
     "text": [
      "['gaseosa', 'vino', 'galletitas', 'vino', 'papas', 'servilletas']\n",
      "<class 'list'>\n"
     ]
    }
   ],
   "source": [
    "bolsa=['gaseosa','vino','galletitas','vino','papas','servilletas']\n",
    "print(bolsa)\n",
    "print(type(bolsa))"
   ]
  },
  {
   "cell_type": "markdown",
   "id": "ebb42c96",
   "metadata": {},
   "source": [
    "Presentar un elemento de la bolsa: El elemento de posicion 2 (galletitas)"
   ]
  },
  {
   "cell_type": "code",
   "execution_count": 9,
   "id": "0c7eed71",
   "metadata": {},
   "outputs": [
    {
     "name": "stdout",
     "output_type": "stream",
     "text": [
      "galletitas\n"
     ]
    }
   ],
   "source": [
    "print(bolsa[2])"
   ]
  },
  {
   "cell_type": "markdown",
   "id": "8aa5493b",
   "metadata": {},
   "source": [
    "Agregar un elemento a la lista"
   ]
  },
  {
   "cell_type": "code",
   "execution_count": 35,
   "id": "ea9c8e8b",
   "metadata": {},
   "outputs": [
    {
     "name": "stdout",
     "output_type": "stream",
     "text": [
      "['gaseosa', 'vino', 'galletitas', 'vino', 'papas', 'servilletas', 'pan']\n"
     ]
    }
   ],
   "source": [
    "bolsa.append('pan')\n",
    "print(bolsa)"
   ]
  },
  {
   "cell_type": "markdown",
   "id": "4754f297",
   "metadata": {},
   "source": [
    "Presentar un subconjunto de la lista"
   ]
  },
  {
   "cell_type": "code",
   "execution_count": 36,
   "id": "2becc789",
   "metadata": {},
   "outputs": [
    {
     "name": "stdout",
     "output_type": "stream",
     "text": [
      "['vino', 'galletitas', 'vino', 'papas']\n"
     ]
    }
   ],
   "source": [
    "print(bolsa[1:5])"
   ]
  },
  {
   "cell_type": "markdown",
   "id": "77464663",
   "metadata": {},
   "source": [
    "Eliminar elemento de la lista"
   ]
  },
  {
   "cell_type": "code",
   "execution_count": 12,
   "id": "07423e91",
   "metadata": {},
   "outputs": [
    {
     "name": "stdout",
     "output_type": "stream",
     "text": [
      "eliminamos el elemento 1 de la bolsa:\n",
      "['gaseosa', 'galletitas', 'vino', 'papas', 'servilletas', 'pan']\n"
     ]
    }
   ],
   "source": [
    "bolsa.remove(bolsa[1])\n",
    "print('eliminamos el elemento 1 de la bolsa:')\n",
    "print(bolsa)"
   ]
  },
  {
   "cell_type": "markdown",
   "id": "08e3b050",
   "metadata": {},
   "source": [
    "### 2.2. Conjunto"
   ]
  },
  {
   "cell_type": "code",
   "execution_count": 42,
   "id": "5ca5a8a4",
   "metadata": {},
   "outputs": [
    {
     "name": "stdout",
     "output_type": "stream",
     "text": [
      "{'vino', 'pan', 'papas', 'servilletas', 'galletitas', 'gaseosa'}\n"
     ]
    }
   ],
   "source": [
    "print(set(bolsa))"
   ]
  },
  {
   "cell_type": "markdown",
   "id": "db00e626",
   "metadata": {},
   "source": [
    "Observacion: El conjunto no admite elementos repetidos. Y esto puede usarse si quiere eliminarse datos repetidos de una lista."
   ]
  },
  {
   "cell_type": "markdown",
   "id": "1923e571",
   "metadata": {},
   "source": [
    "## 3. Tratamiento de Cadenas"
   ]
  },
  {
   "cell_type": "markdown",
   "id": "f17b007c",
   "metadata": {},
   "source": [
    "### 3.1. Cadenas"
   ]
  },
  {
   "cell_type": "markdown",
   "id": "a1c69ddb",
   "metadata": {},
   "source": [
    "#### 3.1.1. Armar una cadena"
   ]
  },
  {
   "cell_type": "code",
   "execution_count": 43,
   "id": "a6010a0b",
   "metadata": {},
   "outputs": [
    {
     "name": "stdout",
     "output_type": "stream",
     "text": [
      "cadena:  dos palabras\n"
     ]
    }
   ],
   "source": [
    "cadena='dos palabras'\n",
    "print('cadena: ',cadena)"
   ]
  },
  {
   "cell_type": "markdown",
   "id": "d5165e4c",
   "metadata": {},
   "source": [
    "#### 3.1.2. Obtener un subconjunto de la cadena"
   ]
  },
  {
   "cell_type": "code",
   "execution_count": 44,
   "id": "ed48919f",
   "metadata": {},
   "outputs": [
    {
     "name": "stdout",
     "output_type": "stream",
     "text": [
      "una Subcadena= dos \n",
      "otra Subcadena= pala\n"
     ]
    }
   ],
   "source": [
    "unaParte=cadena[0:4]\n",
    "print('una Subcadena=',unaParte)\n",
    "otraParte=cadena[4:8]\n",
    "print('otra Subcadena=',otraParte)"
   ]
  },
  {
   "cell_type": "markdown",
   "id": "2f3e3e66",
   "metadata": {},
   "source": [
    "#### 3.1.3. Concatenacion de cadenas"
   ]
  },
  {
   "cell_type": "markdown",
   "id": "1b331fee",
   "metadata": {},
   "source": [
    "Se presenta el ingreso de datos por teclado y la comparación en un ejemplo de concatenación de cadenas. La idea es contar hasta dónde llega una y otra cadena en su formación, para resolver la pregunta."
   ]
  },
  {
   "cell_type": "code",
   "execution_count": 45,
   "id": "795646fb",
   "metadata": {},
   "outputs": [
    {
     "name": "stdout",
     "output_type": "stream",
     "text": [
      "nueva cadena:  dos pala\n",
      "Donde quedo el espacio que separa a las palabras? 1: una Subcadena / 2: otra Subcadena 1\n",
      "Acertaste!\n"
     ]
    }
   ],
   "source": [
    "nuevaCadena=unaParte+otraParte\n",
    "print('nueva cadena: ',nuevaCadena)\n",
    "valor=int(input('Donde quedo el espacio que separa a las palabras? 1: una Subcadena / 2: otra Subcadena '))\n",
    "if(valor==1):\n",
    "    print('Acertaste!')\n",
    "else:\n",
    "    print('Te equivocaste...')"
   ]
  },
  {
   "cell_type": "markdown",
   "id": "7850b244",
   "metadata": {},
   "source": [
    "## 4.   Algunas Estructuras de control:\n",
    "### 4.1. Comparaciones (if):"
   ]
  },
  {
   "cell_type": "code",
   "execution_count": 21,
   "id": "c915b93a",
   "metadata": {},
   "outputs": [
    {
     "name": "stdout",
     "output_type": "stream",
     "text": [
      "a= 2\n",
      "Rta. a=2\n"
     ]
    }
   ],
   "source": [
    "import random\n",
    "a=random.randint(1,6)\n",
    "print('a=',a)\n",
    "if(a==1):\n",
    "    print('Rta. a=1')\n",
    "elif(a==2):\n",
    "    print('Rta. a=2')\n",
    "else:\n",
    "    print('Rta. a>2')"
   ]
  },
  {
   "cell_type": "markdown",
   "id": "5566c338",
   "metadata": {},
   "source": [
    "### 4.2. Iteraciones (Ciclos for):"
   ]
  },
  {
   "cell_type": "code",
   "execution_count": 20,
   "id": "0e55d452",
   "metadata": {},
   "outputs": [
    {
     "name": "stdout",
     "output_type": "stream",
     "text": [
      "i= 0\n",
      "i= 1\n",
      "i= 2\n",
      "i= 3\n",
      "i= 4\n"
     ]
    }
   ],
   "source": [
    "for i in range(5):\n",
    "    print('i=',i)"
   ]
  }
 ],
 "metadata": {
  "kernelspec": {
   "display_name": "Python 3 (ipykernel)",
   "language": "python",
   "name": "python3"
  },
  "language_info": {
   "codemirror_mode": {
    "name": "ipython",
    "version": 3
   },
   "file_extension": ".py",
   "mimetype": "text/x-python",
   "name": "python",
   "nbconvert_exporter": "python",
   "pygments_lexer": "ipython3",
   "version": "3.9.7"
  }
 },
 "nbformat": 4,
 "nbformat_minor": 5
}
